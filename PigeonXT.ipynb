{
 "cells": [
  {
   "cell_type": "code",
   "execution_count": 2,
   "id": "fdcb7b7a-e96f-4242-bc7b-eda699dd1965",
   "metadata": {
    "tags": []
   },
   "outputs": [
    {
     "data": {
      "application/vnd.jupyter.widget-view+json": {
       "model_id": "7f5f64d889414509b199130f0895dab9",
       "version_major": 2,
       "version_minor": 0
      },
      "text/plain": [
       "HTML(value='0 of 6 Examples annotated, Current Position: 0 ')"
      ]
     },
     "metadata": {},
     "output_type": "display_data"
    },
    {
     "data": {
      "application/vnd.jupyter.widget-view+json": {
       "model_id": "ef173a9e365d41da87637f8dcab75e83",
       "version_major": 2,
       "version_minor": 0
      },
      "text/plain": [
       "VBox(children=(HBox(children=(ToggleButton(value=False, description='Class1'), ToggleButton(value=False, descr…"
      ]
     },
     "metadata": {},
     "output_type": "display_data"
    },
    {
     "data": {
      "application/vnd.jupyter.widget-view+json": {
       "model_id": "0e73d58c4938489db7468ee2943eff8c",
       "version_major": 2,
       "version_minor": 0
      },
      "text/plain": [
       "Output()"
      ]
     },
     "metadata": {},
     "output_type": "display_data"
    }
   ],
   "source": [
    "import pandas as pd\n",
    "import pigeonXT as pixt\n",
    "\n",
    "df_custom = pd.DataFrame([\n",
    "    {'example': 'I am Owais Ahmad'},\n",
    "    {'example': 'I am working as a Data Scientist at Thoucentric'},\n",
    "    {'example': 'I have Done Masters in Data Science from JNU'},\n",
    "    {'example': 'I am also a Kaggle Expert'},\n",
    "    {'example': 'I love to contributing to open source community'},\n",
    "    {'example': 'I live in Bangalore '},\n",
    "])\n",
    "\n",
    "labels = ['Class1',  'Class2', 'Class3', 'Class4', 'Class5']\n",
    "\n",
    "annotations = pixt.annotate(\n",
    "    df_custom,\n",
    "    options=labels,\n",
    "    task_type='multilabel-classification',\n",
    "    buttons_in_a_row=3,\n",
    "    reset_buttons_after_click=True,\n",
    "    include_next=True,\n",
    "    include_back=True,\n",
    ")"
   ]
  },
  {
   "cell_type": "code",
   "execution_count": 3,
   "id": "d21beeb7-7850-45f0-9dd3-3c02d31df310",
   "metadata": {
    "tags": []
   },
   "outputs": [
    {
     "data": {
      "text/html": [
       "<div>\n",
       "<style scoped>\n",
       "    .dataframe tbody tr th:only-of-type {\n",
       "        vertical-align: middle;\n",
       "    }\n",
       "\n",
       "    .dataframe tbody tr th {\n",
       "        vertical-align: top;\n",
       "    }\n",
       "\n",
       "    .dataframe thead th {\n",
       "        text-align: right;\n",
       "    }\n",
       "</style>\n",
       "<table border=\"1\" class=\"dataframe\">\n",
       "  <thead>\n",
       "    <tr style=\"text-align: right;\">\n",
       "      <th></th>\n",
       "      <th>example</th>\n",
       "      <th>changed</th>\n",
       "      <th>Class1</th>\n",
       "      <th>Class2</th>\n",
       "      <th>Class3</th>\n",
       "      <th>Class4</th>\n",
       "      <th>Class5</th>\n",
       "    </tr>\n",
       "  </thead>\n",
       "  <tbody>\n",
       "    <tr>\n",
       "      <th>0</th>\n",
       "      <td>I am Owais Ahmad</td>\n",
       "      <td>False</td>\n",
       "      <td>False</td>\n",
       "      <td>False</td>\n",
       "      <td>False</td>\n",
       "      <td>False</td>\n",
       "      <td>False</td>\n",
       "    </tr>\n",
       "    <tr>\n",
       "      <th>1</th>\n",
       "      <td>I am working as a Data Scientist at Thoucentric</td>\n",
       "      <td>False</td>\n",
       "      <td>False</td>\n",
       "      <td>False</td>\n",
       "      <td>False</td>\n",
       "      <td>False</td>\n",
       "      <td>False</td>\n",
       "    </tr>\n",
       "    <tr>\n",
       "      <th>2</th>\n",
       "      <td>I have Done Masters in Data Science from JNU</td>\n",
       "      <td>False</td>\n",
       "      <td>False</td>\n",
       "      <td>False</td>\n",
       "      <td>False</td>\n",
       "      <td>False</td>\n",
       "      <td>False</td>\n",
       "    </tr>\n",
       "    <tr>\n",
       "      <th>3</th>\n",
       "      <td>I am also a Kaggle Expert</td>\n",
       "      <td>False</td>\n",
       "      <td>False</td>\n",
       "      <td>False</td>\n",
       "      <td>False</td>\n",
       "      <td>False</td>\n",
       "      <td>False</td>\n",
       "    </tr>\n",
       "    <tr>\n",
       "      <th>4</th>\n",
       "      <td>I love to contributing to open source community</td>\n",
       "      <td>False</td>\n",
       "      <td>False</td>\n",
       "      <td>False</td>\n",
       "      <td>False</td>\n",
       "      <td>False</td>\n",
       "      <td>False</td>\n",
       "    </tr>\n",
       "    <tr>\n",
       "      <th>5</th>\n",
       "      <td>I live in Bangalore</td>\n",
       "      <td>False</td>\n",
       "      <td>False</td>\n",
       "      <td>False</td>\n",
       "      <td>False</td>\n",
       "      <td>False</td>\n",
       "      <td>False</td>\n",
       "    </tr>\n",
       "  </tbody>\n",
       "</table>\n",
       "</div>"
      ],
      "text/plain": [
       "                                           example  changed  Class1  Class2  \\\n",
       "0                                 I am Owais Ahmad    False   False   False   \n",
       "1  I am working as a Data Scientist at Thoucentric    False   False   False   \n",
       "2     I have Done Masters in Data Science from JNU    False   False   False   \n",
       "3                        I am also a Kaggle Expert    False   False   False   \n",
       "4  I love to contributing to open source community    False   False   False   \n",
       "5                             I live in Bangalore     False   False   False   \n",
       "\n",
       "   Class3  Class4  Class5  \n",
       "0   False   False   False  \n",
       "1   False   False   False  \n",
       "2   False   False   False  \n",
       "3   False   False   False  \n",
       "4   False   False   False  \n",
       "5   False   False   False  "
      ]
     },
     "execution_count": 3,
     "metadata": {},
     "output_type": "execute_result"
    }
   ],
   "source": [
    "annotations"
   ]
  },
  {
   "cell_type": "code",
   "execution_count": 4,
   "id": "16da42aa",
   "metadata": {},
   "outputs": [
    {
     "name": "stdout",
     "output_type": "stream",
     "text": [
      " Volume in drive K is OWAIS KHAN\n",
      " Volume Serial Number is B6B2-5736\n",
      "\n",
      " Directory of K:\\Road Damage Detection and Classification\\Yolov7\\satellite_Images\n",
      "\n",
      "02/07/2023  04:23 PM    <DIR>          .\n",
      "02/07/2023  04:23 PM    <DIR>          ..\n",
      "02/07/2023  04:19 PM         1,941,290 land_shallow_topo_2048.tif\n",
      "02/07/2023  04:19 PM         1,941,290 land_shallow_topo_2049.tif\n",
      "02/07/2023  04:19 PM         1,941,290 land_shallow_topo_2050.tif\n",
      "02/07/2023  04:19 PM         1,941,290 land_shallow_topo_2051.tif\n",
      "               4 File(s)      7,765,160 bytes\n",
      "               2 Dir(s)   3,456,815,104 bytes free\n"
     ]
    }
   ],
   "source": [
    "!dir satellite_Images"
   ]
  },
  {
   "cell_type": "code",
   "execution_count": 5,
   "id": "cb585741-d42c-48e4-bb6d-f05121860111",
   "metadata": {},
   "outputs": [
    {
     "data": {
      "application/vnd.jupyter.widget-view+json": {
       "model_id": "016343caca87494685358a20cf852d83",
       "version_major": 2,
       "version_minor": 0
      },
      "text/plain": [
       "HTML(value='0 of 4 Examples annotated, Current Position: 0 ')"
      ]
     },
     "metadata": {},
     "output_type": "display_data"
    },
    {
     "data": {
      "application/vnd.jupyter.widget-view+json": {
       "model_id": "f24018b65912423b88d128808923ffda",
       "version_major": 2,
       "version_minor": 0
      },
      "text/plain": [
       "VBox(children=(HBox(children=(Button(description='Class1', style=ButtonStyle()), Button(description='Class2', …"
      ]
     },
     "metadata": {},
     "output_type": "display_data"
    },
    {
     "data": {
      "application/vnd.jupyter.widget-view+json": {
       "model_id": "b8e0b2a54f654e2098c27f3a3386bae1",
       "version_major": 2,
       "version_minor": 0
      },
      "text/plain": [
       "Output()"
      ]
     },
     "metadata": {},
     "output_type": "display_data"
    }
   ],
   "source": [
    "from IPython.display import display# Image\n",
    "from PIL import Image as Image1\n",
    "def convert_im(infile):\n",
    "    infile= str(infile)\n",
    "    proper_name = infile[infile.index('satellite_Images'):infile.index('tif')+3]\n",
    "    out = Image1.open(proper_name, 'r')\n",
    "    display(out)\n",
    "    return out\n",
    "\n",
    "from PIL import Image as Image_PIL \n",
    "annotations = pixt.annotate(\n",
    "  ['satellite_Images//land_shallow_topo_2048.tif', 'satellite_Images//land_shallow_topo_2049.tif',\n",
    "   'satellite_Images//land_shallow_topo_2050.tif','satellite_Images//land_shallow_topo_2051.tif'],\n",
    "  options=['Class1', 'Class2', 'Class3'],\n",
    "  display_fn=lambda filename: convert_im(filename)\n",
    ")"
   ]
  },
  {
   "cell_type": "code",
   "execution_count": 6,
   "id": "e8f45c00",
   "metadata": {},
   "outputs": [
    {
     "data": {
      "text/html": [
       "<div>\n",
       "<style scoped>\n",
       "    .dataframe tbody tr th:only-of-type {\n",
       "        vertical-align: middle;\n",
       "    }\n",
       "\n",
       "    .dataframe tbody tr th {\n",
       "        vertical-align: top;\n",
       "    }\n",
       "\n",
       "    .dataframe thead th {\n",
       "        text-align: right;\n",
       "    }\n",
       "</style>\n",
       "<table border=\"1\" class=\"dataframe\">\n",
       "  <thead>\n",
       "    <tr style=\"text-align: right;\">\n",
       "      <th></th>\n",
       "      <th>example</th>\n",
       "      <th>changed</th>\n",
       "      <th>label</th>\n",
       "    </tr>\n",
       "  </thead>\n",
       "  <tbody>\n",
       "    <tr>\n",
       "      <th>0</th>\n",
       "      <td>satellite_Images//land_shallow_topo_2048.tif</td>\n",
       "      <td>False</td>\n",
       "      <td></td>\n",
       "    </tr>\n",
       "    <tr>\n",
       "      <th>1</th>\n",
       "      <td>satellite_Images//land_shallow_topo_2049.tif</td>\n",
       "      <td>False</td>\n",
       "      <td></td>\n",
       "    </tr>\n",
       "    <tr>\n",
       "      <th>2</th>\n",
       "      <td>satellite_Images//land_shallow_topo_2050.tif</td>\n",
       "      <td>False</td>\n",
       "      <td></td>\n",
       "    </tr>\n",
       "    <tr>\n",
       "      <th>3</th>\n",
       "      <td>satellite_Images//land_shallow_topo_2051.tif</td>\n",
       "      <td>False</td>\n",
       "      <td></td>\n",
       "    </tr>\n",
       "  </tbody>\n",
       "</table>\n",
       "</div>"
      ],
      "text/plain": [
       "                                        example  changed label\n",
       "0  satellite_Images//land_shallow_topo_2048.tif    False      \n",
       "1  satellite_Images//land_shallow_topo_2049.tif    False      \n",
       "2  satellite_Images//land_shallow_topo_2050.tif    False      \n",
       "3  satellite_Images//land_shallow_topo_2051.tif    False      "
      ]
     },
     "execution_count": 6,
     "metadata": {},
     "output_type": "execute_result"
    }
   ],
   "source": [
    "annotations"
   ]
  },
  {
   "cell_type": "code",
   "execution_count": null,
   "id": "bce2cf33",
   "metadata": {},
   "outputs": [],
   "source": []
  }
 ],
 "metadata": {
  "kernelspec": {
   "display_name": "Python 3 (ipykernel)",
   "language": "python",
   "name": "python3"
  },
  "language_info": {
   "codemirror_mode": {
    "name": "ipython",
    "version": 3
   },
   "file_extension": ".py",
   "mimetype": "text/x-python",
   "name": "python",
   "nbconvert_exporter": "python",
   "pygments_lexer": "ipython3",
   "version": "3.9.0"
  }
 },
 "nbformat": 4,
 "nbformat_minor": 5
}
